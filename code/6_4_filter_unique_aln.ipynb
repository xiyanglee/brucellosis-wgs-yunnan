{
 "cells": [
  {
   "cell_type": "code",
   "execution_count": 1,
   "id": "b96e4728-4e70-4faf-a8bb-5ec8544fee5c",
   "metadata": {},
   "outputs": [],
   "source": [
    "from Bio import SeqIO\n",
    "from Bio import AlignIO\n",
    "import pandas as pd"
   ]
  },
  {
   "cell_type": "code",
   "execution_count": 2,
   "id": "39aa1c57-489f-46f2-8319-59ab1c392f53",
   "metadata": {},
   "outputs": [],
   "source": [
    "alignment = AlignIO.read(\"../data/trimal_result/core_gene_alignment_trim.aln\", \"fasta\")\n",
    "alignment_dict = SeqIO.to_dict(alignment)"
   ]
  },
  {
   "cell_type": "code",
   "execution_count": 3,
   "id": "629ce9fb-4562-46ad-9ce4-5e28ba0222fe",
   "metadata": {},
   "outputs": [],
   "source": [
    "repeat_seqname = []\n",
    "target_seqname = []\n",
    "unique_seq_list = []\n",
    "for seq_name, seq_records in alignment_dict.items():\n",
    "    if len(unique_seq_list) == 0:\n",
    "        unique_seq_list.append(seq_records)\n",
    "    else:\n",
    "        FLAG = True\n",
    "        for seq in unique_seq_list:\n",
    "            if seq_records.seq == seq.seq:\n",
    "                FLAG = False\n",
    "                repeat_seqname.append(seq_name)\n",
    "                target_seqname.append(seq.name)\n",
    "                break\n",
    "        if FLAG:\n",
    "            unique_seq_list.append(seq_records)"
   ]
  },
  {
   "cell_type": "code",
   "execution_count": 4,
   "id": "749fc001-3363-4937-a6d5-de28b262eef3",
   "metadata": {},
   "outputs": [
    {
     "data": {
      "text/plain": [
       "481"
      ]
     },
     "execution_count": 4,
     "metadata": {},
     "output_type": "execute_result"
    }
   ],
   "source": [
    "SeqIO.write(unique_seq_list, \"../data/trimal_result/core_gene_alignment_trim_unique.aln\", \"fasta\")"
   ]
  },
  {
   "cell_type": "code",
   "execution_count": 5,
   "id": "9341dfe9-2aa4-4e61-9a3a-e4babefa41a0",
   "metadata": {},
   "outputs": [],
   "source": [
    "repeat_info = pd.DataFrame({'repeat_seqname': repeat_seqname, 'target_seqname': target_seqname})\n",
    "repeat_info.to_csv(\"../data/trimal_result/core_gene_alignment_repeat.csv\", sep = \",\", index = False, header = True)"
   ]
  },
  {
   "cell_type": "code",
   "execution_count": null,
   "id": "a74f3ba6-f074-4243-b40a-24f69345c9d3",
   "metadata": {},
   "outputs": [],
   "source": []
  }
 ],
 "metadata": {
  "kernelspec": {
   "display_name": "Python 3 (ipykernel)",
   "language": "python",
   "name": "python3"
  },
  "language_info": {
   "codemirror_mode": {
    "name": "ipython",
    "version": 3
   },
   "file_extension": ".py",
   "mimetype": "text/x-python",
   "name": "python",
   "nbconvert_exporter": "python",
   "pygments_lexer": "ipython3",
   "version": "3.9.13"
  }
 },
 "nbformat": 4,
 "nbformat_minor": 5
}
