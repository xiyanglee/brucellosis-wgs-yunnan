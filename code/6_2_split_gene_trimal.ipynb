{
 "cells": [
  {
   "cell_type": "code",
   "execution_count": 13,
   "id": "15c8873a-48af-4fae-99c0-9c4fe33af69e",
   "metadata": {
    "tags": []
   },
   "outputs": [
    {
     "name": "stdout",
     "output_type": "stream",
     "text": [
      "Overwriting att_run_trimal.py\n"
     ]
    }
   ],
   "source": [
    "%%writefile  att_run_trimal.py\n",
    "import re\n",
    "import subprocess\n",
    "from multiprocessing import Pool\n",
    "\n",
    "def run_trimal(input_file, output_file, html_out):\n",
    "    subprocess.call([\n",
    "        '/public/apps/trimAl-1.5.0/bin/trimal', \n",
    "        '-in', input_file, \n",
    "        '-out', output_file, \n",
    "        '-htmlout', html_out, \n",
    "        '-fasta', \n",
    "        '-gt', '0.1',  \n",
    "        '-w', '1', \n",
    "        '-keepseqs', \n",
    "        '-keepheader'\n",
    "    ])\n",
    "    \n",
    "if __name__ == '__main__':\n",
    "    gene_name_list = []\n",
    "    with open('../data/roary_result/core_alignment_header.embl', 'r') as file:\n",
    "        for item in file:\n",
    "            item = item.rstrip()\n",
    "            if '/locus_tag' in item:\n",
    "                gene_name = re.split('locus_tag=', item)[1]\n",
    "                gene_name_list.append(gene_name)\n",
    "\n",
    "    pool = Pool(processes = 20)\n",
    "    results = [\n",
    "        pool.apply_async(run_trimal, args = (\n",
    "            '/share/data_2/lxy/alto/project/brucella_wgs_Yunnan_2024/pipelines/denovo_ssembly/data/split_gene_aln/raw_split_aln/' + gene_name + '-raw.aln', \n",
    "            '/share/data_2/lxy/alto/project/brucella_wgs_Yunnan_2024/pipelines/denovo_ssembly/data/split_gene_aln/trim_split_aln/' + gene_name + '-trim.aln', \n",
    "            '/share/data_2/lxy/alto/project/brucella_wgs_Yunnan_2024/pipelines/denovo_ssembly/data/split_gene_aln/trim_split_aln/' + gene_name + '-trim.html', \n",
    "        )) for gene_name in gene_name_list\n",
    "    ]\n",
    "    \n",
    "    print(results[0].get())"
   ]
  },
  {
   "cell_type": "code",
   "execution_count": 14,
   "id": "bce732fe-b11d-494f-8fdf-873a4a05fd8a",
   "metadata": {},
   "outputs": [
    {
     "name": "stdout",
     "output_type": "stream",
     "text": [
      "None\n"
     ]
    }
   ],
   "source": [
    "%run att_run_trimal.py"
   ]
  }
 ],
 "metadata": {
  "kernelspec": {
   "display_name": "Python 3 (ipykernel)",
   "language": "python",
   "name": "python3"
  },
  "language_info": {
   "codemirror_mode": {
    "name": "ipython",
    "version": 3
   },
   "file_extension": ".py",
   "mimetype": "text/x-python",
   "name": "python",
   "nbconvert_exporter": "python",
   "pygments_lexer": "ipython3",
   "version": "3.9.13"
  }
 },
 "nbformat": 4,
 "nbformat_minor": 5
}
