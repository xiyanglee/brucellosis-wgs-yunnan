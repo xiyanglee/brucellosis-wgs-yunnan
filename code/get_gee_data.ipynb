{
 "cells": [
  {
   "cell_type": "code",
   "execution_count": 1,
   "id": "f8625e1f-13dd-4289-8c27-22ce441b127f",
   "metadata": {
    "tags": []
   },
   "outputs": [],
   "source": [
    "import ee\n",
    "import geemap\n",
    "import pandas as pd\n",
    "from datetime import datetime, timedelta"
   ]
  },
  {
   "cell_type": "code",
   "execution_count": null,
   "id": "5ec32bfe-33eb-4c09-b1e0-57a29c8e11a1",
   "metadata": {
    "tags": []
   },
   "outputs": [],
   "source": [
    "geemap.set_proxy(port = '7897')\n",
    "ee.Authenticate()\n",
    "geemap.ee_initialize()"
   ]
  },
  {
   "cell_type": "code",
   "execution_count": 3,
   "id": "33fdad83-aaf9-4d71-9ef6-4f8d6b5d63f3",
   "metadata": {
    "tags": []
   },
   "outputs": [
    {
     "data": {
      "text/html": [
       "\n",
       "            <style>\n",
       "                .geemap-dark {\n",
       "                    --jp-widgets-color: white;\n",
       "                    --jp-widgets-label-color: white;\n",
       "                    --jp-ui-font-color1: white;\n",
       "                    --jp-layout-color2: #454545;\n",
       "                    background-color: #383838;\n",
       "                }\n",
       "\n",
       "                .geemap-dark .jupyter-button {\n",
       "                    --jp-layout-color3: #383838;\n",
       "                }\n",
       "\n",
       "                .geemap-colab {\n",
       "                    background-color: var(--colab-primary-surface-color, white);\n",
       "                }\n",
       "\n",
       "                .geemap-colab .jupyter-button {\n",
       "                    --jp-layout-color3: var(--colab-primary-surface-color, white);\n",
       "                }\n",
       "            </style>\n",
       "            "
      ],
      "text/plain": [
       "<IPython.core.display.HTML object>"
      ]
     },
     "metadata": {},
     "output_type": "display_data"
    }
   ],
   "source": [
    "start_date = '2019-01-01'\n",
    "end_date   = '2022-12-31'\n",
    "variables  = ['dewpoint_temperature_2m', \n",
    "              'temperature_2m', \n",
    "              'surface_pressure', \n",
    "              'total_precipitation_sum']"
   ]
  },
  {
   "cell_type": "code",
   "execution_count": 4,
   "id": "6e3bf15b-bad3-4047-b00f-39119601d321",
   "metadata": {
    "tags": []
   },
   "outputs": [
    {
     "data": {
      "text/html": [
       "\n",
       "            <style>\n",
       "                .geemap-dark {\n",
       "                    --jp-widgets-color: white;\n",
       "                    --jp-widgets-label-color: white;\n",
       "                    --jp-ui-font-color1: white;\n",
       "                    --jp-layout-color2: #454545;\n",
       "                    background-color: #383838;\n",
       "                }\n",
       "\n",
       "                .geemap-dark .jupyter-button {\n",
       "                    --jp-layout-color3: #383838;\n",
       "                }\n",
       "\n",
       "                .geemap-colab {\n",
       "                    background-color: var(--colab-primary-surface-color, white);\n",
       "                }\n",
       "\n",
       "                .geemap-colab .jupyter-button {\n",
       "                    --jp-layout-color3: var(--colab-primary-surface-color, white);\n",
       "                }\n",
       "            </style>\n",
       "            "
      ],
      "text/plain": [
       "<IPython.core.display.HTML object>"
      ]
     },
     "metadata": {},
     "output_type": "display_data"
    }
   ],
   "source": [
    "# 'Collection query aborted after accumulating over 5000 elements.'\n",
    "def extract_data_for_site(site_name, lon, lat, start_date, end_date):\n",
    "    # 创建地点\n",
    "    point = ee.Geometry.Point([lon, lat])\n",
    "    \n",
    "    # 获取 ECMWF/ERA5_LAND/DAILY_AGGR 数据集\n",
    "    # https://developers.google.com/earth-engine/datasets/catalog/ECMWF_ERA5_LAND_MONTHLY_AGGR#bands\n",
    "    dataset = ee.ImageCollection('ECMWF/ERA5_LAND/MONTHLY_AGGR') \\\n",
    "                .filterDate(start_date, end_date) \\\n",
    "                .filterBounds(point)\n",
    "    \n",
    "    # 选择感兴趣的变量\n",
    "    dataset = dataset.select(variables)\n",
    "    \n",
    "    # 将数据转为时间序列，使用 reduceRegion\n",
    "    def extract_single_date(image):\n",
    "        date = ee.Date(image.get('system:time_start')).format('YYYY-MM-dd')\n",
    "        reduced = image.reduceRegion(\n",
    "            reducer=ee.Reducer.mean(),\n",
    "            geometry=point,\n",
    "            scale=1000,\n",
    "            maxPixels=1e13\n",
    "        )\n",
    "        result = reduced.set('date', date)\n",
    "        return ee.Feature(None, result)\n",
    "\n",
    "    # 获取每个日期的数据\n",
    "    time_series = dataset.map(extract_single_date).getInfo()\n",
    "    \n",
    "    # 提取数据并转换为 pandas DataFrame\n",
    "    records = []\n",
    "    for feature in time_series['features']:\n",
    "        properties = feature['properties']\n",
    "        properties['site'] = site_name\n",
    "        records.append(properties)\n",
    "    \n",
    "    return pd.DataFrame(records)"
   ]
  },
  {
   "cell_type": "code",
   "execution_count": null,
   "id": "9cb9b5a1-8a56-4429-8af6-38902738968e",
   "metadata": {
    "tags": []
   },
   "outputs": [
    {
     "data": {
      "text/html": [
       "\n",
       "            <style>\n",
       "                .geemap-dark {\n",
       "                    --jp-widgets-color: white;\n",
       "                    --jp-widgets-label-color: white;\n",
       "                    --jp-ui-font-color1: white;\n",
       "                    --jp-layout-color2: #454545;\n",
       "                    background-color: #383838;\n",
       "                }\n",
       "\n",
       "                .geemap-dark .jupyter-button {\n",
       "                    --jp-layout-color3: #383838;\n",
       "                }\n",
       "\n",
       "                .geemap-colab {\n",
       "                    background-color: var(--colab-primary-surface-color, white);\n",
       "                }\n",
       "\n",
       "                .geemap-colab .jupyter-button {\n",
       "                    --jp-layout-color3: var(--colab-primary-surface-color, white);\n",
       "                }\n",
       "            </style>\n",
       "            "
      ],
      "text/plain": [
       "<IPython.core.display.HTML object>"
      ]
     },
     "metadata": {},
     "output_type": "display_data"
    }
   ],
   "source": [
    "file_path = '../metadata/sequenced_sample_location_data.csv'\n",
    "df = pd.read_csv(file_path)"
   ]
  },
  {
   "cell_type": "code",
   "execution_count": 7,
   "id": "60eb7bc3-adc8-4df7-8cbb-20f3e82f2178",
   "metadata": {
    "tags": []
   },
   "outputs": [
    {
     "data": {
      "text/html": [
       "\n",
       "            <style>\n",
       "                .geemap-dark {\n",
       "                    --jp-widgets-color: white;\n",
       "                    --jp-widgets-label-color: white;\n",
       "                    --jp-ui-font-color1: white;\n",
       "                    --jp-layout-color2: #454545;\n",
       "                    background-color: #383838;\n",
       "                }\n",
       "\n",
       "                .geemap-dark .jupyter-button {\n",
       "                    --jp-layout-color3: #383838;\n",
       "                }\n",
       "\n",
       "                .geemap-colab {\n",
       "                    background-color: var(--colab-primary-surface-color, white);\n",
       "                }\n",
       "\n",
       "                .geemap-colab .jupyter-button {\n",
       "                    --jp-layout-color3: var(--colab-primary-surface-color, white);\n",
       "                }\n",
       "            </style>\n",
       "            "
      ],
      "text/plain": [
       "<IPython.core.display.HTML object>"
      ]
     },
     "metadata": {},
     "output_type": "display_data"
    }
   ],
   "source": [
    "# 按站点和时间提取数据\n",
    "all_data = []\n",
    "for index, row in df.iterrows():\n",
    "    site_data = extract_data_for_site(\n",
    "        site_name=row['ID'],\n",
    "        lon=row['lng'],\n",
    "        lat=row['lat'],\n",
    "        start_date=start_date,\n",
    "        end_date=end_date\n",
    "    )\n",
    "    all_data.append(site_data)\n",
    "\n",
    "# 将所有数据合并\n",
    "final_df = pd.concat(all_data, ignore_index = True)"
   ]
  },
  {
   "cell_type": "code",
   "execution_count": 8,
   "id": "d4c13550-048c-4b32-acd8-28cd865c99dc",
   "metadata": {
    "tags": []
   },
   "outputs": [
    {
     "data": {
      "text/html": [
       "\n",
       "            <style>\n",
       "                .geemap-dark {\n",
       "                    --jp-widgets-color: white;\n",
       "                    --jp-widgets-label-color: white;\n",
       "                    --jp-ui-font-color1: white;\n",
       "                    --jp-layout-color2: #454545;\n",
       "                    background-color: #383838;\n",
       "                }\n",
       "\n",
       "                .geemap-dark .jupyter-button {\n",
       "                    --jp-layout-color3: #383838;\n",
       "                }\n",
       "\n",
       "                .geemap-colab {\n",
       "                    background-color: var(--colab-primary-surface-color, white);\n",
       "                }\n",
       "\n",
       "                .geemap-colab .jupyter-button {\n",
       "                    --jp-layout-color3: var(--colab-primary-surface-color, white);\n",
       "                }\n",
       "            </style>\n",
       "            "
      ],
      "text/plain": [
       "<IPython.core.display.HTML object>"
      ]
     },
     "metadata": {},
     "output_type": "display_data"
    }
   ],
   "source": [
    "final_df.to_csv('../metadata/sequenced_sample_location_data_with_ecmwf_era5.csv', index = False)"
   ]
  }
 ],
 "metadata": {
  "kernelspec": {
   "display_name": "gee",
   "language": "python",
   "name": "gee"
  },
  "language_info": {
   "codemirror_mode": {
    "name": "ipython",
    "version": 3
   },
   "file_extension": ".py",
   "mimetype": "text/x-python",
   "name": "python",
   "nbconvert_exporter": "python",
   "pygments_lexer": "ipython3",
   "version": "3.12.4"
  }
 },
 "nbformat": 4,
 "nbformat_minor": 5
}
