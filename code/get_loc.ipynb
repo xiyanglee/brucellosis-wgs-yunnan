{
 "cells": [
  {
   "cell_type": "code",
   "execution_count": 1,
   "id": "e90245e1-43ed-4eaf-97f1-4e073a03ffbb",
   "metadata": {},
   "outputs": [],
   "source": [
    "import requests\n",
    "import pandas as pd\n",
    "import os\n",
    "import time"
   ]
  },
  {
   "cell_type": "code",
   "execution_count": 2,
   "id": "c5912687-b7fa-44e4-9a3f-6849b6bc9c8e",
   "metadata": {},
   "outputs": [],
   "source": [
    "#  请求地址前缀\n",
    "req_url_pref = \"http://api.tianditu.gov.cn/geocoder?\"\n",
    "amp_api_key = 'xxx'\n",
    "\n",
    "def get_poi_from_amap():\n",
    "    \"\"\"\n",
    "    从天地图API下载地理编码\n",
    "    \"\"\"\n",
    "    global result, count, response, data\n",
    "    response = requests.get(req_url_pref, params = rep_params)\n",
    "    data = response.json()  # 返回字典数据 dict\n",
    "    if data['status'] == '0':\n",
    "        lng = float(data[\"location\"][\"lon\"])\n",
    "        lat = float(data[\"location\"][\"lat\"])\n",
    "        busi_data = [\n",
    "            {\n",
    "                \"input_name\": amp_api_name,\n",
    "                \"input_address\": amp_api_address,\n",
    "                \"gcj2000_lng\": lng,\n",
    "                \"gcj2000_lat\": lat\n",
    "            }\n",
    "        ]\n",
    "        \n",
    "    else:\n",
    "        rep_params1 = {\n",
    "        \"tk\": amp_api_key,\n",
    "        \"ds\": {\n",
    "            \"{'keyWord':\" + '\"' + amp_api_name + '\"' + \"}\", \n",
    "        }\n",
    "        }\n",
    "        response1 = requests.get(req_url_pref, params = rep_params1)\n",
    "        data = response1.json()\n",
    "        if data['status'] == '0':\n",
    "                lng = float(data[\"location\"][\"lon\"])\n",
    "                lat = float(data[\"location\"][\"lat\"])\n",
    "                busi_data = [\n",
    "                    {\n",
    "                        \"input_name\": amp_api_name,\n",
    "                        \"input_address\": amp_api_address,\n",
    "                        \"gcj2000_lng\": lng,\n",
    "                        \"gcj2000_lat\": lat\n",
    "                        }\n",
    "                ]\n",
    "        else:\n",
    "            busi_data = [\n",
    "        {\n",
    "            \"input_name\": amp_api_name,\n",
    "            \"input_address\": amp_api_address,\n",
    "            \"gcj2000_lng\": 'Unknow',\n",
    "            \"gcj2000_lat\": 'Unknow'\n",
    "        }\n",
    "    ]\n",
    "            count += 1\n",
    "            print(count, \":\", amp_api_name, \" | \", amp_api_address, \" | 未能在地图中找到位置\")\n",
    " \n",
    "    df = pd.DataFrame(busi_data)\n",
    "    result = pd.concat([result, df], axis = 0, ignore_index = True)   # 将每次i结果union在一块（列方面追加）"
   ]
  },
  {
   "cell_type": "code",
   "execution_count": null,
   "id": "ac252b62-18b0-455a-a827-4ef85f50b080",
   "metadata": {},
   "outputs": [],
   "source": []
  },
  {
   "cell_type": "code",
   "execution_count": 3,
   "id": "4bdd0a1f-9ed4-485a-a971-3cb952e936f9",
   "metadata": {},
   "outputs": [],
   "source": [
    "amp_api_data = pd.read_csv('../metadata/cases_address_data_2019_2022.csv')"
   ]
  },
  {
   "cell_type": "code",
   "execution_count": 4,
   "id": "7893d478-b857-4cf0-ac30-78d1514f2422",
   "metadata": {},
   "outputs": [],
   "source": [
    "amp_api_data = amp_api_data.loc[:, ['ID', 'address']]"
   ]
  },
  {
   "cell_type": "code",
   "execution_count": 5,
   "id": "11f5aa73-5ef4-4e4c-97df-06b5a0c2c105",
   "metadata": {
    "scrolled": true,
    "tags": []
   },
   "outputs": [
    {
     "name": "stdout",
     "output_type": "stream",
     "text": [
      "进度：[50/2311]\n",
      "进度：[100/2311]\n",
      "进度：[150/2311]\n",
      "进度：[200/2311]\n",
      "进度：[250/2311]\n",
      "进度：[300/2311]\n",
      "进度：[350/2311]\n",
      "进度：[400/2311]\n",
      "进度：[450/2311]\n",
      "进度：[500/2311]\n",
      "进度：[550/2311]\n",
      "进度：[600/2311]\n",
      "进度：[650/2311]\n",
      "进度：[700/2311]\n",
      "进度：[750/2311]\n",
      "进度：[800/2311]\n",
      "进度：[850/2311]\n",
      "进度：[900/2311]\n",
      "进度：[950/2311]\n",
      "进度：[1000/2311]\n",
      "进度：[1050/2311]\n",
      "进度：[1100/2311]\n",
      "进度：[1150/2311]\n",
      "进度：[1200/2311]\n",
      "进度：[1250/2311]\n",
      "进度：[1300/2311]\n",
      "进度：[1350/2311]\n",
      "进度：[1400/2311]\n",
      "进度：[1500/2311]\n",
      "进度：[1550/2311]\n",
      "进度：[1600/2311]\n",
      "进度：[1650/2311]\n",
      "进度：[1700/2311]\n",
      "进度：[1750/2311]\n",
      "进度：[1800/2311]\n",
      "进度：[1850/2311]\n",
      "进度：[1900/2311]\n",
      "进度：[1950/2311]\n",
      "进度：[2000/2311]\n",
      "进度：[2050/2311]\n",
      "进度：[2100/2311]\n",
      "进度：[2150/2311]\n",
      "进度：[2200/2311]\n",
      "进度：[2250/2311]\n",
      "进度：[2300/2311]\n"
     ]
    }
   ],
   "source": [
    "result = pd.DataFrame()  # 初始化\n",
    "count = 0\n",
    "\n",
    "# 遍历地址\n",
    "# sleep(0.1) -> sleep(2) response: <Response [418]>\n",
    "for i in range(len(amp_api_data.values)):     \n",
    "    amp_api_name = amp_api_data.values[i][0]\n",
    "    amp_api_address = amp_api_data.values[i][1]\n",
    "    rep_params = {\n",
    "        'ds': \n",
    "            \"{'keyWord':\"+'\"'+ amp_api_address +'\"'+\"}\", \n",
    "        'tk': amp_api_key\n",
    "    }\n",
    "    get_poi_from_amap()\n",
    "    if (i + 1) % 50 == 0:\n",
    "        print(\"进度：[\", i + 1, \"/\", len(amp_api_data), \"]\", sep = '')\n",
    "    time.sleep(3)"
   ]
  },
  {
   "cell_type": "code",
   "execution_count": 6,
   "id": "b5819802-2069-41d7-a1d6-2c3be26b43b7",
   "metadata": {},
   "outputs": [],
   "source": [
    "result.to_csv('../metadata/cases_address_data_2019_2022_with_location.csv', index = False)"
   ]
  },
  {
   "cell_type": "code",
   "execution_count": null,
   "id": "d684cf82-9cef-45fd-9da7-75927a4b88dd",
   "metadata": {
    "tags": []
   },
   "outputs": [],
   "source": []
  }
 ],
 "metadata": {
  "kernelspec": {
   "display_name": "Python 3 (ipykernel)",
   "language": "python",
   "name": "python3"
  },
  "language_info": {
   "codemirror_mode": {
    "name": "ipython",
    "version": 3
   },
   "file_extension": ".py",
   "mimetype": "text/x-python",
   "name": "python",
   "nbconvert_exporter": "python",
   "pygments_lexer": "ipython3",
   "version": "3.9.20"
  }
 },
 "nbformat": 4,
 "nbformat_minor": 5
}
