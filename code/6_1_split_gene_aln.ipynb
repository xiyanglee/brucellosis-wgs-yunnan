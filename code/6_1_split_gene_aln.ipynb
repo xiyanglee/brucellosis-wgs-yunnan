{
 "cells": [
  {
   "cell_type": "code",
   "execution_count": 1,
   "id": "3ae5bae8-bade-41a1-a1ab-caf6f5d5a2cf",
   "metadata": {},
   "outputs": [],
   "source": [
    "import re\n",
    "from Bio import AlignIO"
   ]
  },
  {
   "cell_type": "code",
   "execution_count": 2,
   "id": "73cc14be-07dd-4b06-9be0-145dfae205f1",
   "metadata": {},
   "outputs": [],
   "source": [
    "alignment = AlignIO.read(\"../data/roary_result/core_gene_alignment.aln\", \"fasta\")"
   ]
  },
  {
   "cell_type": "code",
   "execution_count": 3,
   "id": "ab5a3ae5-f631-4340-8147-61f9bf989945",
   "metadata": {},
   "outputs": [],
   "source": [
    "gene_name_list = []\n",
    "gene_start_list = []\n",
    "gene_end_list = []\n",
    "with open('../data/roary_result/core_alignment_header.embl', 'r') as file:\n",
    "    for item in file:\n",
    "        item = item.rstrip()\n",
    "        if 'feature' in item:\n",
    "            gene_range = re.split('FT +.*feature +', item)[1]\n",
    "            gene_range = re.sub('\\.\\.', '-', gene_range)\n",
    "            gene_start, gene_end = gene_range.split('-')\n",
    "            # embl 范围标记方式为 1-based，如 1-10、11-18，均为左闭右闭区间\n",
    "            # biopython 为 0-based，应改为 0-10、10-18，即 end_loc 不变，start_loc - 1\n",
    "            gene_start_list.append(int(gene_start) - 1)\n",
    "            gene_end_list.append(int(gene_end))\n",
    "        if '/locus_tag' in item:\n",
    "            gene_name = re.split('locus_tag=', item)[1]\n",
    "            gene_name_list.append(gene_name)"
   ]
  },
  {
   "cell_type": "code",
   "execution_count": 4,
   "id": "45e0868a-ce6e-4625-92c4-126a020646c9",
   "metadata": {},
   "outputs": [
    {
     "name": "stdout",
     "output_type": "stream",
     "text": [
      "Alignment with 850 rows and 297565 columns\n",
      "atggcaaggatcgagcggtttgaattgcgcatggtggaccttcc...taa 201902\n",
      "atggcaaggatcgagcggtttgaattgcgcatggtggaccttcc...taa 201903\n",
      "atggcaaggatcgagcggtttgaattgcgcatggtggaccttcc...taa 201904\n",
      "atggcaaggatcgagcggtttgaattgcgcatggtggaccttcc...taa 201906\n",
      "atggcaaggatcgagcggtttgaattgcgcatggtggaccttcc...taa 201907\n",
      "atggcaaggatcgagcggtttgaattgcgcatggtggaccttcc...taa 201911\n",
      "atggcaaggatcgagcggtttgaattgcgcatggtggaccttcc...taa 201915\n",
      "atggcaaggatcgagcggtttgaattgcgcatggtggaccttcc...taa 201917\n",
      "atggcaaggatcgagcggtttgaattgcgcatggtggaccttcc...taa 201920\n",
      "atggcaaggatcgagcggtttgaattgcgcatggtggaccttcc...taa 201921\n",
      "atggcaaggatcgagcggtttgaattgcgcatggtggaccttcc...taa 201924\n",
      "atggcaaggatcgagcggtttgaattgcgcatggtggaccttcc...taa 201928\n",
      "atggcaaggatcgagcggtttgaattgcgcatggtggaccttcc...taa 201931\n",
      "atggcaaggatcgagcggtttgaattgcgcatggtggaccttcc...taa 201937\n",
      "atggcaaggatcgagcggtttgaattgcgcatggtggaccttcc...taa 202002\n",
      "atggcaaggatcgagcggtttgaattgcgcatggtggaccttcc...taa 202003\n",
      "atggcaaggatcgagcggtttgaattgcgcatggtggaccttcc...taa 202004\n",
      "atggcaaggatcgagcggtttgaattgcgcatggtggaccttcc...taa 202007\n",
      "...\n",
      "atggcaaggatcgagcggtttgaattgcgcatggtggaccttcc...taa GCA_964186575.1\n"
     ]
    }
   ],
   "source": [
    "print(alignment)"
   ]
  },
  {
   "cell_type": "code",
   "execution_count": 5,
   "id": "bf65a047-eb92-486f-91b7-7acd87976ed1",
   "metadata": {},
   "outputs": [
    {
     "data": {
      "text/plain": [
       "True"
      ]
     },
     "execution_count": 5,
     "metadata": {},
     "output_type": "execute_result"
    }
   ],
   "source": [
    "# 确定 - 分隔符不在任何基因名中\n",
    "all(['-' not in n for n in gene_name_list])"
   ]
  },
  {
   "cell_type": "code",
   "execution_count": 6,
   "id": "1f542fb5-3337-4d2e-a4c1-7fbffbb445ac",
   "metadata": {},
   "outputs": [],
   "source": [
    "for gene_name, start_loc, end_loc in zip(gene_name_list, gene_start_list, gene_end_list):\n",
    "    AlignIO.write(alignment[:, start_loc:end_loc], \"../data/split_gene_aln/raw_split_aln/\" + gene_name + \"-raw.aln\", \"fasta\")"
   ]
  },
  {
   "cell_type": "code",
   "execution_count": null,
   "id": "61b5e593-9a56-40a2-b75c-fa3f856e74c6",
   "metadata": {},
   "outputs": [],
   "source": []
  }
 ],
 "metadata": {
  "kernelspec": {
   "display_name": "Python 3 (ipykernel)",
   "language": "python",
   "name": "python3"
  },
  "language_info": {
   "codemirror_mode": {
    "name": "ipython",
    "version": 3
   },
   "file_extension": ".py",
   "mimetype": "text/x-python",
   "name": "python",
   "nbconvert_exporter": "python",
   "pygments_lexer": "ipython3",
   "version": "3.9.13"
  }
 },
 "nbformat": 4,
 "nbformat_minor": 5
}
