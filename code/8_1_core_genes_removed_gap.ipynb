{
 "cells": [
  {
   "cell_type": "code",
   "execution_count": 36,
   "id": "5a640cef-be21-48b2-b218-2c822970500c",
   "metadata": {},
   "outputs": [],
   "source": [
    "import re\n",
    "\n",
    "from Bio import SeqIO\n",
    "from Bio import AlignIO\n",
    "from Bio.Align import MultipleSeqAlignment\n",
    "from Bio.Seq import Seq\n",
    "from Bio.SeqRecord import SeqRecord\n",
    "\n",
    "import numpy as np\n",
    "import pandas as pd\n",
    "\n",
    "import matplotlib.pyplot as plt\n",
    "from tqdm import tqdm  # 用于显示进度条\n",
    "\n",
    "import subprocess"
   ]
  },
  {
   "cell_type": "code",
   "execution_count": 2,
   "id": "0d53182f-3fb6-486d-b04e-5c89182032ac",
   "metadata": {},
   "outputs": [],
   "source": [
    "alignment = AlignIO.read(\"../data/roary_result/core_gene_alignment.aln\", \"fasta\")"
   ]
  },
  {
   "cell_type": "code",
   "execution_count": 3,
   "id": "933b7e0d-d7fb-4320-ba6e-59d52d26cc4a",
   "metadata": {},
   "outputs": [],
   "source": [
    "# 将比对对象转换为 NumPy 数组以便于矩阵操作（加速计算）\n",
    "alignment_array = np.array([list(record.seq) for record in alignment])\n",
    "\n",
    "# 获取总序列数和比对长度\n",
    "num_sequences, alignment_length = alignment_array.shape\n",
    "\n",
    "# 定义 gap 碱基集合\n",
    "gap_bases = {\"-\", \".\", \"N\"}\n",
    "\n",
    "# 使用矩阵操作计算每列非 gap 的比例\n",
    "non_gap_counts = np.sum(~np.isin(alignment_array, list(gap_bases)), axis=0)\n",
    "non_gap_ratios = non_gap_counts / num_sequences"
   ]
  },
  {
   "cell_type": "code",
   "execution_count": 4,
   "id": "f2021cd4-a55f-4306-96f7-800ee49a748e",
   "metadata": {},
   "outputs": [
    {
     "data": {
      "text/plain": [
       "array([0.99764706, 0.99882353, 1.        ])"
      ]
     },
     "execution_count": 4,
     "metadata": {},
     "output_type": "execute_result"
    }
   ],
   "source": [
    "# 计算分位数\n",
    "quantiles = np.quantile(non_gap_ratios, [0.25, 0.5, 0.75])\n",
    "quantiles"
   ]
  },
  {
   "cell_type": "code",
   "execution_count": 5,
   "id": "be4000ed-15f9-480c-a207-00fd21c21714",
   "metadata": {},
   "outputs": [
    {
     "data": {
      "image/png": "[encoded data removed]",
      "text/plain": [
       "<Figure size 600x400 with 1 Axes>"
      ]
     },
     "metadata": {},
     "output_type": "display_data"
    }
   ],
   "source": [
    "plt.figure(figsize = (6, 4))\n",
    "plt.hist(non_gap_ratios, bins = np.arange(0, 1.02, 0.02), alpha = 0.75, edgecolor = \"black\")\n",
    "plt.title(\"Distribution of Non-Gap Base Ratios\")\n",
    "plt.xlabel(\"Non-Gap Ratio\")\n",
    "plt.ylabel(\"Frequency\")\n",
    "# 设置纵轴为对数坐标\n",
    "plt.yscale(\"log\")\n",
    "# 修改 x 轴刻度和标签\n",
    "plt.xticks(ticks=np.arange(0, 1.1, 0.1), labels=[f\"{x:.1f}\" for x in np.arange(0, 1.1, 0.1)])\n",
    "plt.show()"
   ]
  },
  {
   "cell_type": "code",
   "execution_count": 6,
   "id": "f3ccb717-8d25-44ec-bdf9-49b8a032b41a",
   "metadata": {},
   "outputs": [
    {
     "data": {
      "text/plain": [
       "0.051881101608052024"
      ]
     },
     "execution_count": 6,
     "metadata": {},
     "output_type": "execute_result"
    }
   ],
   "source": [
    "np.sum(non_gap_ratios < 0.99) / len(non_gap_ratios)"
   ]
  },
  {
   "cell_type": "code",
   "execution_count": 7,
   "id": "6967c307-8629-4007-93b1-f79f3d5d117f",
   "metadata": {},
   "outputs": [
    {
     "data": {
      "text/plain": [
       "15438"
      ]
     },
     "execution_count": 7,
     "metadata": {},
     "output_type": "execute_result"
    }
   ],
   "source": [
    "np.sum(non_gap_ratios < 0.99)"
   ]
  },
  {
   "cell_type": "code",
   "execution_count": 8,
   "id": "09847cc6-2438-4fa2-a447-d97079986d8f",
   "metadata": {},
   "outputs": [
    {
     "data": {
      "text/plain": [
       "297565"
      ]
     },
     "execution_count": 8,
     "metadata": {},
     "output_type": "execute_result"
    }
   ],
   "source": [
    "len(non_gap_ratios)"
   ]
  },
  {
   "cell_type": "code",
   "execution_count": 9,
   "id": "62ef39a6-4048-48eb-a3aa-72d1c8fa7757",
   "metadata": {},
   "outputs": [
    {
     "name": "stderr",
     "output_type": "stream",
     "text": [
      "Processing sequences: 100%|██████████████████████████████████████████████████████| 850/850 [00:14<00:00, 56.81it/s]\n"
     ]
    }
   ],
   "source": [
    "LEN_GAP_FILTER = 2\n",
    "\n",
    "# 初始化一个集合，用于存储所有位置的并集\n",
    "gap_positions_union = set()\n",
    "\n",
    "# 遍历每条序列\n",
    "for record in tqdm(alignment, desc = \"Processing sequences\"):\n",
    "    sequence = str(record.seq)  # 转换为字符串\n",
    "    gap_start = None  # 用于记录 gap 段的起始位置\n",
    "\n",
    "    # 遍历序列中的每个字符及其索引\n",
    "    for i, char in enumerate(sequence):\n",
    "        if char == \"-\":  # 当前字符是 gap\n",
    "            if gap_start is None:\n",
    "                gap_start = i  # 记录 gap 起始位置\n",
    "        else:  # 当前字符不是 gap\n",
    "            if gap_start is not None and i - gap_start >= LEN_GAP_FILTER:\n",
    "                # 记录连续 5 个或以上 gap 的位置\n",
    "                gap_positions_union.update(range(gap_start, i))\n",
    "            gap_start = None  # 重置 gap 起始位置\n",
    "\n",
    "    # 处理序列末尾连续 gap 的情况\n",
    "    if gap_start is not None and len(sequence) - gap_start >= LEN_GAP_FILTER:\n",
    "        gap_positions_union.update(range(gap_start, len(sequence)))\n",
    "\n",
    "# 输出所有位置的并集\n",
    "gap_positions_union = sorted(gap_positions_union)  # 可选：排序方便查看"
   ]
  },
  {
   "cell_type": "code",
   "execution_count": 10,
   "id": "8e4965c2-df04-4e56-b8b7-a9ebbbbe7c2b",
   "metadata": {},
   "outputs": [
    {
     "data": {
      "text/plain": [
       "166243"
      ]
     },
     "execution_count": 10,
     "metadata": {},
     "output_type": "execute_result"
    }
   ],
   "source": [
    "len(gap_positions_union)"
   ]
  },
  {
   "cell_type": "code",
   "execution_count": 11,
   "id": "383f37c9-246e-45a2-9e5b-34c8fa3b12a0",
   "metadata": {},
   "outputs": [
    {
     "data": {
      "text/plain": [
       "0.5586779359131618"
      ]
     },
     "execution_count": 11,
     "metadata": {},
     "output_type": "execute_result"
    }
   ],
   "source": [
    "len(gap_positions_union) / len(non_gap_ratios)"
   ]
  },
  {
   "cell_type": "code",
   "execution_count": null,
   "id": "955e279f-4d7c-4b76-9e14-86e58cbaab36",
   "metadata": {},
   "outputs": [],
   "source": []
  },
  {
   "cell_type": "code",
   "execution_count": 12,
   "id": "53858a98-883b-4b8b-aaff-8ff9ead2684e",
   "metadata": {},
   "outputs": [],
   "source": [
    "gap_positions_non_gap_ratios = [non_gap_ratios[i] for i in gap_positions_union]"
   ]
  },
  {
   "cell_type": "code",
   "execution_count": 13,
   "id": "34586163-e1ad-4e4a-a3f4-65ca3e30dc11",
   "metadata": {},
   "outputs": [
    {
     "data": {
      "image/png": "[encoded data removed]",
      "text/plain": [
       "<Figure size 600x400 with 1 Axes>"
      ]
     },
     "metadata": {},
     "output_type": "display_data"
    }
   ],
   "source": [
    "plt.figure(figsize = (6, 4))\n",
    "plt.hist(gap_positions_non_gap_ratios, bins = 50, alpha = 0.75, edgecolor = \"black\")\n",
    "plt.title(\"Distribution of Non-Gap Base Ratios\")\n",
    "plt.xlabel(\"Non-Gap Ratio\")\n",
    "plt.ylabel(\"Frequency\")\n",
    "# 设置纵轴为对数坐标\n",
    "plt.yscale(\"log\")\n",
    "# 修改 x 轴刻度和标签\n",
    "# plt.xticks(ticks=np.arange(0, 1.1, 0.1), labels=[f\"{x:.1f}\" for x in np.arange(0, 1.1, 0.1)])\n",
    "plt.show()"
   ]
  },
  {
   "cell_type": "code",
   "execution_count": null,
   "id": "6f320c21-26c5-48bd-9556-69e5f0d81a1e",
   "metadata": {},
   "outputs": [],
   "source": []
  },
  {
   "cell_type": "code",
   "execution_count": 15,
   "id": "b09c29a7-f359-4732-a766-4a44b4c67400",
   "metadata": {},
   "outputs": [
    {
     "data": {
      "text/plain": [
       "131322"
      ]
     },
     "execution_count": 15,
     "metadata": {},
     "output_type": "execute_result"
    }
   ],
   "source": [
    "# 计算要保留的位置集合\n",
    "positions_to_keep = sorted(set(range(alignment.get_alignment_length())) - set(gap_positions_union))\n",
    "len(positions_to_keep)"
   ]
  },
  {
   "cell_type": "code",
   "execution_count": 19,
   "id": "9a07dc45-0674-4aba-95dc-7e65e6291740",
   "metadata": {
    "tags": []
   },
   "outputs": [
    {
     "name": "stderr",
     "output_type": "stream",
     "text": [
      "Processing sequences: 100%|██████████████████████████████████████████████████████| 850/850 [00:26<00:00, 31.54it/s]\n"
     ]
    }
   ],
   "source": [
    "# 提取需要的列\n",
    "filtered_records = []\n",
    "for record in tqdm(alignment, desc = \"Processing sequences\"):\n",
    "    sequence_array = np.array(list(str(record.seq)))  # 转换为 NumPy 数组\n",
    "    filtered_sequence = \"\".join(sequence_array.take(positions_to_keep))  # 按列索引提取\n",
    "    filtered_records.append(SeqRecord(Seq(filtered_sequence), id=record.id, description=record.description))\n",
    "\n",
    "# 构建新的 MultipleSeqAlignment\n",
    "filtered_alignment = MultipleSeqAlignment(filtered_records)"
   ]
  },
  {
   "cell_type": "code",
   "execution_count": 24,
   "id": "613b42ff-c572-4997-8ef7-89e29cda8571",
   "metadata": {},
   "outputs": [
    {
     "data": {
      "text/plain": [
       "<<class 'Bio.Align.MultipleSeqAlignment'> instance (850 records of length 131322) at 78a31f468610>"
      ]
     },
     "execution_count": 24,
     "metadata": {},
     "output_type": "execute_result"
    }
   ],
   "source": [
    "filtered_alignment"
   ]
  },
  {
   "cell_type": "code",
   "execution_count": 26,
   "id": "b5e6a75f-8cc1-41fc-aa90-6c41fc52a742",
   "metadata": {},
   "outputs": [
    {
     "data": {
      "text/plain": [
       "1"
      ]
     },
     "execution_count": 26,
     "metadata": {},
     "output_type": "execute_result"
    }
   ],
   "source": [
    "AlignIO.write(filtered_alignment, \"../data/core_genes_removed_gap/core_gene_alignment_filtered.aln\", \"fasta\")"
   ]
  },
  {
   "cell_type": "code",
   "execution_count": null,
   "id": "47a93a74-a71d-42a9-b1c6-ceb6fd647bd6",
   "metadata": {},
   "outputs": [],
   "source": []
  },
  {
   "cell_type": "code",
   "execution_count": 30,
   "id": "c2d2cfff-087d-4d5d-b4a8-a6c754901d99",
   "metadata": {},
   "outputs": [],
   "source": [
    "with open('../data/core_genes_removed_gap/core_gene_snp_filtered.aln', 'w') as output_file:\n",
    "    subprocess.run([\n",
    "        'snp-sites', \n",
    "        '../data/core_genes_removed_gap/core_gene_alignment_filtered.aln'\n",
    "    ], stdout = output_file, text = True)"
   ]
  },
  {
   "cell_type": "code",
   "execution_count": null,
   "id": "7c4edeb4-edf8-46df-aa71-44a245764a28",
   "metadata": {},
   "outputs": [],
   "source": []
  },
  {
   "cell_type": "code",
   "execution_count": null,
   "id": "55683a2b-4336-43bd-b68f-3875be86fc16",
   "metadata": {},
   "outputs": [],
   "source": [
    "# 使用 core_gene_alignment_filtered.aln 取 unique 保留 296 条序列\n",
    "# 使用 core_gene_snp_filtered.aln       取 unique 保留 287 条序列\n",
    "# snp-sites 过滤掉了部分位点 "
   ]
  },
  {
   "cell_type": "code",
   "execution_count": 55,
   "id": "866a9c62-6383-4494-927d-535007d875d2",
   "metadata": {},
   "outputs": [],
   "source": [
    "snp_alignment = AlignIO.read('../data/core_genes_removed_gap/core_gene_snp_filtered.aln', 'fasta')\n",
    "alignment_dict = SeqIO.to_dict(snp_alignment)"
   ]
  },
  {
   "cell_type": "code",
   "execution_count": 56,
   "id": "dd511d2b-bd40-460c-a6a7-e5d90256e6e3",
   "metadata": {},
   "outputs": [],
   "source": [
    "repeat_seqname = []\n",
    "target_seqname = []\n",
    "unique_seq_list = []\n",
    "for seq_name, seq_records in alignment_dict.items():\n",
    "    if len(unique_seq_list) == 0:\n",
    "        unique_seq_list.append(seq_records)\n",
    "    else:\n",
    "        FLAG = True\n",
    "        for seq in unique_seq_list:\n",
    "            if seq_records.seq == seq.seq:\n",
    "                FLAG = False\n",
    "                repeat_seqname.append(seq_name)\n",
    "                target_seqname.append(seq.id)\n",
    "                break\n",
    "        if FLAG:\n",
    "            unique_seq_list.append(seq_records)"
   ]
  },
  {
   "cell_type": "code",
   "execution_count": 57,
   "id": "c3b1e9e9-7f34-4de7-8d48-b0cc79b4f15e",
   "metadata": {},
   "outputs": [
    {
     "data": {
      "text/plain": [
       "287"
      ]
     },
     "execution_count": 57,
     "metadata": {},
     "output_type": "execute_result"
    }
   ],
   "source": [
    "SeqIO.write(unique_seq_list, \"../data/core_genes_removed_gap/core_gene_snp_filtered_unique.aln\", \"fasta\")"
   ]
  },
  {
   "cell_type": "code",
   "execution_count": 58,
   "id": "6d07aa23-7661-47ae-928b-c0ff0b05f2cb",
   "metadata": {},
   "outputs": [],
   "source": [
    "repeat_info = pd.DataFrame({'repeat_seqname': repeat_seqname, 'target_seqname': target_seqname})\n",
    "repeat_info.to_csv(\"../data/core_genes_removed_gap/core_gene_alignment_repeat.csv\", sep = \",\", index = False, header = True)"
   ]
  }
 ],
 "metadata": {
  "kernelspec": {
   "display_name": "Python 3 (ipykernel)",
   "language": "python",
   "name": "python3"
  },
  "language_info": {
   "codemirror_mode": {
    "name": "ipython",
    "version": 3
   },
   "file_extension": ".py",
   "mimetype": "text/x-python",
   "name": "python",
   "nbconvert_exporter": "python",
   "pygments_lexer": "ipython3",
   "version": "3.9.13"
  }
 },
 "nbformat": 4,
 "nbformat_minor": 5
}
