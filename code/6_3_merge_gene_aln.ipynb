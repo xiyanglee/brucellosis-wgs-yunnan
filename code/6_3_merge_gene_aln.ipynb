{
 "cells": [
  {
   "cell_type": "code",
   "execution_count": 1,
   "id": "65dbe94d-9fca-4a3c-b113-61c5e2ad6e33",
   "metadata": {},
   "outputs": [],
   "source": [
    "import re\n",
    "from Bio import AlignIO"
   ]
  },
  {
   "cell_type": "code",
   "execution_count": 2,
   "id": "6691ea12-65d9-47c1-bab0-448e3019ca28",
   "metadata": {},
   "outputs": [],
   "source": [
    "gene_name_list = []\n",
    "with open('../data/roary_result/core_alignment_header.embl', 'r') as file:\n",
    "    for item in file:\n",
    "        item = item.rstrip()\n",
    "        if '/locus_tag' in item:\n",
    "            gene_name = re.split('locus_tag=', item)[1]\n",
    "            gene_name_list.append(gene_name)"
   ]
  },
  {
   "cell_type": "code",
   "execution_count": 3,
   "id": "5b7f4e8f-a863-4403-8ebc-7bcc6753a401",
   "metadata": {},
   "outputs": [],
   "source": [
    "out_gene_start_list = []\n",
    "out_gene_end_list = []\n",
    "out_alignment = None\n",
    "alignment_length_list = []\n",
    "current_length = 0\n",
    "for gene_name in gene_name_list:\n",
    "    aln_dir = \"/share/data_2/lxy/alto/project/brucella_wgs_Yunnan_2024/pipelines/denovo_ssembly/data/split_gene_aln/trim_split_aln\"\n",
    "    alignment = AlignIO.read(aln_dir + \"/\" + gene_name + \"-trim.aln\", \"fasta\")\n",
    "    alignment_length = alignment.get_alignment_length()\n",
    "    if out_alignment is not None:\n",
    "        out_alignment += alignment\n",
    "        out_gene_start_list.append(current_length + 1)\n",
    "    else:\n",
    "        out_alignment = alignment\n",
    "        out_gene_start_list.append(1)\n",
    "    out_gene_end_list.append(current_length + alignment_length)\n",
    "    current_length += alignment_length\n",
    "    alignment_length_list.append(alignment_length)"
   ]
  },
  {
   "cell_type": "code",
   "execution_count": 4,
   "id": "abedb18e-da7d-4e55-bb3e-992515e6c9c4",
   "metadata": {},
   "outputs": [],
   "source": [
    "out_range_list = ['-'.join([str(s), str(e)]) for s, e in zip(out_gene_start_list, out_gene_end_list)]\n",
    "with open('../data/trimal_result/core_alignment_header_trim.part', 'w') as f:    \n",
    "    for gene_name, gene_range in zip(gene_name_list, out_range_list):\n",
    "        f.write('DNA, ' + gene_name + ' = ' + gene_range + '\\n')"
   ]
  },
  {
   "cell_type": "code",
   "execution_count": 5,
   "id": "79dfbf8d-f8dc-4fbc-a1ef-211f3583ee54",
   "metadata": {},
   "outputs": [
    {
     "data": {
      "text/plain": [
       "1"
      ]
     },
     "execution_count": 5,
     "metadata": {},
     "output_type": "execute_result"
    }
   ],
   "source": [
    "AlignIO.write(out_alignment, \"../data/trimal_result/core_gene_alignment_trim.aln\", \"fasta\")"
   ]
  },
  {
   "cell_type": "code",
   "execution_count": null,
   "id": "049d565a-0919-45fb-800a-c9109ccf95d3",
   "metadata": {},
   "outputs": [],
   "source": []
  }
 ],
 "metadata": {
  "kernelspec": {
   "display_name": "Python 3 (ipykernel)",
   "language": "python",
   "name": "python3"
  },
  "language_info": {
   "codemirror_mode": {
    "name": "ipython",
    "version": 3
   },
   "file_extension": ".py",
   "mimetype": "text/x-python",
   "name": "python",
   "nbconvert_exporter": "python",
   "pygments_lexer": "ipython3",
   "version": "3.9.13"
  }
 },
 "nbformat": 4,
 "nbformat_minor": 5
}
